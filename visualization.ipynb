{
 "cells": [
  {
   "cell_type": "markdown",
   "metadata": {},
   "source": [
    "# Spotify top 200 charts (2020 - 2021)\n",
    "### This data set includes information related to top 200 charted songs from 2020 to 2021.\n",
    "\n",
    "### The csv includes:\n",
    "```\n",
    "index, highest charting position, number of times charted, week of highest charting, song name, streams, artist, artist followers, song id, genre, release date, weeks charted, popularity, danceability, energy, loudness, speechiness, acousticness, liveness, tempo, duration, valence, chord\n",
    "```\n",
    "\n",
    "### For this visualization we're interested in:\n",
    "- Geting a brief understanding of what genre was the most listened from 2020 to 2021.\n",
    "- Knowing which chords are the most used when composing a song and if it affects the charting place.\n",
    "- Knowing if there's an \"ideal\" duration for a song to be top charted.\n",
    "- Knowing if there's an \"ideal\" tempo for a song to be top charted.\n",
    "\n",
    "### What will this help us for?\n",
    "This will help us get an insight on what type of song is more likely to be top charted and therefore more listened according to the considered variables: \"genre, duration, tempo and chord\""
   ]
  },
  {
   "cell_type": "code",
   "execution_count": 149,
   "metadata": {},
   "outputs": [],
   "source": [
    "import numpy as np\n",
    "import matplotlib.pyplot as plt\n",
    "import csv\n",
    "\n",
    "from wordcloud import WordCloud, STOPWORDS\n",
    "\n",
    "def read_csv(csv_route):\n",
    "  with open(csv_route, encoding = \"cp850\") as file:\n",
    "    reader = csv.reader(file, delimiter=\",\")\n",
    "    data_indices = [1, 4, 6, 9, 19, 20, 22]\n",
    "    float_indices = [0, 4, 5]\n",
    "    header = next(reader)\n",
    "    header = [header[i] for i in data_indices]\n",
    "    data = []\n",
    "    for row in reader:\n",
    "      song = [row[i] for i in data_indices]\n",
    "      data.append(song)\n",
    "    for idx, song in enumerate(data):\n",
    "      for i, val in enumerate(song):\n",
    "        if val == \" \":\n",
    "          del data[idx]\n",
    "        else: \n",
    "          if i in float_indices:\n",
    "            song[i] = float(song[i])\n",
    "    return data, header\n",
    "\n",
    "def filter_data(data, upper_limit, lower_limit):\n",
    "  return list(filter(lambda x: float(x[0]) <= upper_limit and float(x[0]) >= lower_limit, data))\n",
    "\n",
    "\n",
    "def generate_chord_wordcloud(data):\n",
    "  comment_words = \" \".join(song[6] for song in data)\n",
    "  wordcloud = WordCloud(width=400, height=400, background_color = \"white\", regexp=r\"(?:[A-z]#/[A-z]{2})|(?:[A-Z])\").generate(comment_words)\n",
    "  return wordcloud\n"
   ]
  },
  {
   "cell_type": "markdown",
   "metadata": {},
   "source": [
    "### First let's read the dataset and retrieve all the songs that belonged to the top 10 charted and the ones that belonged to the least 10 charted. (best and worst)"
   ]
  },
  {
   "cell_type": "code",
   "execution_count": 150,
   "metadata": {},
   "outputs": [],
   "source": [
    "data, header = read_csv('./spotify_dataset.csv')\n",
    "top_ten = filter_data(data, 10, 0)\n",
    "last_ten = filter_data(data, 200, 190)"
   ]
  },
  {
   "cell_type": "markdown",
   "metadata": {},
   "source": [
    "### Let's find out the most listened genre's from 2020 to 2021"
   ]
  },
  {
   "cell_type": "code",
   "execution_count": null,
   "metadata": {},
   "outputs": [],
   "source": [
    "#TODO: graph word_cloud for genres in top_ten and least_ten"
   ]
  },
  {
   "cell_type": "markdown",
   "metadata": {},
   "source": [
    "### Let's see if there's an ideal duration for a song to be top charted"
   ]
  },
  {
   "cell_type": "code",
   "execution_count": null,
   "metadata": {},
   "outputs": [],
   "source": [
    "#TODO: graph durations for top_ten and least_ten"
   ]
  },
  {
   "cell_type": "markdown",
   "metadata": {},
   "source": [
    "### Let's see if there's an ideal tempo for a song to be top charted"
   ]
  },
  {
   "cell_type": "code",
   "execution_count": null,
   "metadata": {},
   "outputs": [],
   "source": [
    "#TODO: graph tempo for top_ten and leat_ten"
   ]
  },
  {
   "cell_type": "markdown",
   "metadata": {},
   "source": [
    "### Now let's find out the frequently used chords for top charted and least charted songs"
   ]
  },
  {
   "cell_type": "code",
   "execution_count": null,
   "metadata": {},
   "outputs": [],
   "source": [
    "\n",
    "\n",
    "fig, ax = plt.subplots(1,2)\n",
    "fig.suptitle(\"Frequently used chords for:\")\n",
    "ax[0].set_title(\"top charted songs\")\n",
    "ax[0].imshow(generate_chord_wordcloud(top_ten))\n",
    "ax[0].axis(\"off\")\n",
    "\n",
    "ax[1].set_title(\"least charted songs\")\n",
    "ax[1].imshow(generate_chord_wordcloud(last_ten))\n",
    "ax[1].axis(\"off\")\n",
    "\n",
    "fig.tight_layout()\n",
    "plt.show()"
   ]
  },
  {
   "cell_type": "markdown",
   "metadata": {},
   "source": [
    "### Insights"
   ]
  }
 ],
 "metadata": {
  "kernelspec": {
   "display_name": "Python 3.11.0 ('venv': venv)",
   "language": "python",
   "name": "python3"
  },
  "language_info": {
   "codemirror_mode": {
    "name": "ipython",
    "version": 3
   },
   "file_extension": ".py",
   "mimetype": "text/x-python",
   "name": "python",
   "nbconvert_exporter": "python",
   "pygments_lexer": "ipython3",
   "version": "3.11.0"
  },
  "orig_nbformat": 4,
  "vscode": {
   "interpreter": {
    "hash": "edaab6c1d24b989148dc738427b8d2b1d9f2e2ef01eeeaf7bc068ee7fc2e0c81"
   }
  }
 },
 "nbformat": 4,
 "nbformat_minor": 2
}
