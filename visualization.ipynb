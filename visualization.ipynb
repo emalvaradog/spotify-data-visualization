{
 "cells": [
  {
   "cell_type": "markdown",
   "metadata": {},
   "source": [
    "# Spotify top 200 charts (2020 - 2021)\n",
    "### This data sets is goinfg to be used to identify patterns in the genres and key in which popular music is composed\n",
    "\n",
    "### Todos:\n",
    "- [x] Read csv\n",
    "- [x] Format csv into a list with only the required info (position, name, artist, genre, tempo, duration and key)\n",
    "- []  \n"
   ]
  },
  {
   "cell_type": "code",
   "execution_count": 59,
   "metadata": {},
   "outputs": [
    {
     "name": "stdout",
     "output_type": "stream",
     "text": [
      "[[199.0, 'Verdansk', 'Dave', \"['uk hip hop']\", 117.078, 182285.0, 'D'], [200.0, 'Vida Louca', 'Mc Poze do Rodo, Neo Beats, Mainstreet', \"['funk carioca', 'funk ostentacao']\", 92.464, 155676.0, 'F#/Gb'], [199.0, '10 Years', 'Da├░i Freyr', \"['icelandic pop', 'sunnlensk tonlist']\", 123.038, 166000.0, 'D'], [199.0, 'Paradigmas', 'Jorge & Mateus', \"['sertanejo', 'sertanejo universitario']\", 157.932, 157355.0, 'C#/Db'], [200.0, 'LOST', 'NF, Hopsin', \"['hip hop', 'pop rap', 'rap']\", 116.919, 234852.0, 'F'], [199.0, 'Conf├¡a', 'Sech, Daddy Yankee', \"['latin', 'panamanian pop', 'reggaeton', 'trap latino']\", 167.987, 202308.0, 'C'], [199.0, 'Lover (Remix) [feat. Shawn Mendes]', 'Taylor Swift', \"['pop', 'post-teen pop']\", 205.272, 221307.0, 'G']]\n"
     ]
    }
   ],
   "source": [
    "import numpy as np\n",
    "import matplotlib.pyplot as plt\n",
    "import csv\n",
    "\n",
    "def read_csv(csv_route):\n",
    "  with open(csv_route, encoding = \"cp850\") as file:\n",
    "    reader = csv.reader(file, delimiter=\",\")\n",
    "    data_indices = [1, 4, 6, 9, 19, 20, 22]\n",
    "    float_indices = [0, 4, 5]\n",
    "    header = next(reader)\n",
    "    header = [header[i] for i in data_indices]\n",
    "    data = []\n",
    "    for row in reader:\n",
    "      song = [row[i] for i in data_indices]\n",
    "      data.append(song)\n",
    "    for idx, song in enumerate(data):\n",
    "      for i, val in enumerate(song):\n",
    "        if val == \" \":\n",
    "          del data[idx]\n",
    "        else: \n",
    "          if i in float_indices:\n",
    "            song[i] = float(song[i])\n",
    "    return data, header\n",
    "\n",
    "def filter_data(data, upper_limit, lower_limit):\n",
    "  return list(filter(lambda x: float(x[0]) <= upper_limit and float(x[0]) >= lower_limit, data))\n",
    "\n",
    "data, header = read_csv('./spotify_dataset.csv')\n",
    "top_five = filter_data(data, 200, 199)\n",
    "\n",
    "print(top_five)\n",
    "\n",
    "fig, ax = plt.subplots()"
   ]
  }
 ],
 "metadata": {
  "kernelspec": {
   "display_name": "Python 3.11.0 ('venv': venv)",
   "language": "python",
   "name": "python3"
  },
  "language_info": {
   "codemirror_mode": {
    "name": "ipython",
    "version": 3
   },
   "file_extension": ".py",
   "mimetype": "text/x-python",
   "name": "python",
   "nbconvert_exporter": "python",
   "pygments_lexer": "ipython3",
   "version": "3.11.0"
  },
  "orig_nbformat": 4,
  "vscode": {
   "interpreter": {
    "hash": "edaab6c1d24b989148dc738427b8d2b1d9f2e2ef01eeeaf7bc068ee7fc2e0c81"
   }
  }
 },
 "nbformat": 4,
 "nbformat_minor": 2
}
